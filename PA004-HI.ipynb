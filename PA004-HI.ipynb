{
 "cells": [
  {
   "attachments": {},
   "cell_type": "markdown",
   "metadata": {},
   "source": [
    "# Health Insurance problem\n",
    "\n",
    "\n"
   ]
  },
  {
   "attachments": {},
   "cell_type": "markdown",
   "metadata": {},
   "source": [
    "### Contexto: \n",
    "A Insurance All é uma empresa que fornece seguro de saúde para seus clientes e o time de produtos está analisando a possibilidade de oferecer aos assegurados, um novo produto: Um seguro de automóveis.\n",
    "\n",
    "Assim como o seguro de saúde, os clientes desse novo plano de seguro de automóveis precisam pagar um valor anualmente à Insurance All para obter um valor assegurado pela empresa, destinado aos custos de um eventual acidente ou dano ao veículo.\n",
    "\n",
    "A Insurance All fez uma pesquisa com cerca de 380 mil clientes sobre o interesse em aderir a um novo produto de seguro de automóveis, no ano passado. Todos os clientes demonstraram interesse ou não em adquirir o seguro de automóvel e essas respostas ficaram salvas em um banco de dados junto com outros atributos dos clientes.\n",
    "\n",
    "O time de produtos selecionou 127 mil novos clientes que não responderam a pesquisa para participar de uma campanha, no qual receberão a oferta do novo produto de seguro de automóveis. A oferta será feita pelo time de vendas através de ligações telefônicas. Contudo, o time de vendas tem uma capacidade de realizar 20 mil ligações dentro do período da campanha. \n",
    "\n",
    "\n",
    "### Desafio\n",
    "Nesse contexto, você foi contratado como um consultor de Ciência de Dados para construir um modelo que prediz se o cliente estaria ou não interessado no seguro de automóvel.\n",
    "Com a sua solução, o time de vendas espera conseguir priorizar as pessoas com maior interesse no novo produto e assim, otimizar a campanha realizando apenas contatos aos clientes mais propensos a realizar a compra.\n",
    "Como resultado da sua consultoria, você precisará entregar um relatório contendo algumas análises e respostas às seguintes perguntas: \n",
    "\n",
    "1. Principais Insights sobre os atributos mais relevantes de clientes interessados em adquirir um seguro de automóvel.\n",
    "2. Qual a porcentagem de clientes interessados em adquirir um seguro de automóvel, o time de vendas conseguirá contatar fazendo 20.000 ligações?\n",
    "3. E se a capacidade do time de vendas aumentar para 40.000 ligações, qual a porcentagem de clientes interessados em adquirir um seguro de automóvel o time de vendas conseguirá contatar?\n",
    "4. Quantas ligações o time de vendas precisa fazer para contatar 80% dos clientes interessados em adquirir um seguro de automóvel?\n",
    "\n",
    "### Os dados \n",
    "- Id: identificador único do cliente.\n",
    "- Gender: gênero do cliente.\n",
    "- Age: idade do cliente.\n",
    "- Driving License: 0, o cliente não tem permissão para dirigir e 1, o cliente tem para dirigir ( CNH – CarteiraNacional de Habilitação )\n",
    "- Region Code: código da região do cliente.\n",
    "- Previously Insured: 0, o cliente não tem seguro de automóvel e 1, o cliente já tem seguro de automóvel.\n",
    "- Vehicle Age: idade do veículo.\n",
    "- Vehicle Damage: 0, cliente nunca teve seu veículo danificado no passado e 1, cliente já teve seu veículodanificado no passado.\n",
    "- Anual Premium: quantidade que o cliente pagou à empresa pelo seguro de saúde anual.\n",
    "- Policy sales channel: código anônimo para o canal de contato com o cliente.\n",
    "- Vintage: número de dias que o cliente se associou à empresa através\n",
    "- Response: Pesquisa prévia sobre pessoas que teriam intenção de comprar um seguro de carro"
   ]
  },
  {
   "attachments": {},
   "cell_type": "markdown",
   "metadata": {},
   "source": [
    "# Set up"
   ]
  },
  {
   "attachments": {},
   "cell_type": "markdown",
   "metadata": {},
   "source": [
    "### Libraries"
   ]
  },
  {
   "cell_type": "code",
   "execution_count": 2,
   "metadata": {},
   "outputs": [],
   "source": [
    "import pandas as pd\n",
    "import inflection\n",
    "import numpy as np\n",
    "import seaborn as sns\n",
    "from sklearn                 import ensemble         as en\n",
    "from sklearn                 import model_selection  as ms\n",
    "\n",
    "from matplotlib             import pyplot as plt\n",
    "from IPython.display        import HTML\n",
    "from imblearn.over_sampling import RandomOverSampler\n",
    "\n",
    "from sklearn.preprocessing   import RobustScaler, MinMaxScaler, LabelEncoder\n",
    "from sklearn.model_selection import StratifiedKFold, cross_validate, cross_val_predict\n",
    "from sklearn.linear_model import LogisticRegression\n",
    "from sklearn.tree import DecisionTreeClassifier\n",
    "from sklearn.neighbors import KNeighborsClassifier\n",
    "from sklearn.ensemble import RandomForestClassifier, BaggingClassifier\n",
    "from sklearn.metrics import accuracy_score, recall_score, precision_score, balanced_accuracy_score, f1_score\n",
    "\n"
   ]
  },
  {
   "attachments": {},
   "cell_type": "markdown",
   "metadata": {},
   "source": [
    "### Functions"
   ]
  },
  {
   "cell_type": "code",
   "execution_count": 3,
   "metadata": {},
   "outputs": [],
   "source": [
    "def change_type(data):   # Changing Type\n",
    "\n",
    "    data['annual_premium'] = data['annual_premium'].astype(int)\n",
    "    data['policy_sales_channel'] = data['policy_sales_channel'].astype(int)\n",
    "    data['annual_premium'] = data['annual_premium'].astype(int)\n",
    "    data['policy_sales_channel'] = data['policy_sales_channel'].astype(int)\n",
    "    data['region_code'] = data['region_code'].astype(int)\n",
    "\n",
    "    change_type = data\n",
    "    return change_type\n",
    "\n",
    "\n",
    "def vehicle(data):     # Removendo Year\n",
    "\n",
    "        if data == '< 1 Year':\n",
    "            return 0\n",
    "        elif data == '1-2 Year':\n",
    "            return 1\n",
    "        else:\n",
    "            return 2\n",
    "\n",
    "\n",
    "def vehicle_change(data):    #Changing Vehicle \n",
    "\n",
    "    data['vehicle_damage'] = data.apply( lambda x: 0 if x['vehicle_damage'] == 'No' else 1, axis=1 )\n",
    "    data['vehicle_age_year'] = data['vehicle_age'].apply(vehicle)\n",
    "    \n",
    "    changes = data\n",
    "    return changes\n",
    "\n",
    "def change_all(data):\n",
    "     data1 = change_type(data)\n",
    "     changes = vehicle_change(data1)\n",
    "\n",
    "     return changes\n",
    "\n",
    "\n",
    "def jupyter_settings():\n",
    "    %matplotlib inline\n",
    "    plt.style.use( 'bmh' )\n",
    "    plt.rcParams['figure.figsize'] = [25, 12]\n",
    "    plt.rcParams['font.size'] = 24\n",
    "    display( HTML( '<style>.container { width:100% !important; }</style>') )\n",
    "    pd.options.display.max_columns = None\n",
    "    pd.options.display.max_rows = None\n",
    "    pd.set_option( 'display.expand_frame_repr', False )\n",
    "    sns.set()"
   ]
  },
  {
   "cell_type": "code",
   "execution_count": 4,
   "metadata": {},
   "outputs": [
    {
     "data": {
      "text/html": [
       "<style>.container { width:100% !important; }</style>"
      ],
      "text/plain": [
       "<IPython.core.display.HTML object>"
      ]
     },
     "metadata": {},
     "output_type": "display_data"
    }
   ],
   "source": [
    "jupyter_settings()"
   ]
  },
  {
   "attachments": {},
   "cell_type": "markdown",
   "metadata": {},
   "source": [
    "### Import Data"
   ]
  },
  {
   "cell_type": "code",
   "execution_count": 5,
   "metadata": {},
   "outputs": [],
   "source": [
    "df_train_raw = pd.read_csv('train.csv', low_memory=False)\n",
    "df_test_raw = pd.read_csv('test.csv', low_memory=False)"
   ]
  },
  {
   "attachments": {},
   "cell_type": "markdown",
   "metadata": {},
   "source": [
    "## ETL"
   ]
  },
  {
   "attachments": {},
   "cell_type": "markdown",
   "metadata": {},
   "source": [
    "### Data Raw status"
   ]
  },
  {
   "cell_type": "code",
   "execution_count": 6,
   "metadata": {},
   "outputs": [],
   "source": [
    "df1 = df_train_raw.copy()\n",
    "df1test = df_test_raw.copy()"
   ]
  },
  {
   "cell_type": "code",
   "execution_count": 7,
   "metadata": {},
   "outputs": [
    {
     "data": {
      "text/plain": [
       "Index(['id', 'Gender', 'Age', 'Driving_License', 'Region_Code',\n",
       "       'Previously_Insured', 'Vehicle_Age', 'Vehicle_Damage', 'Annual_Premium',\n",
       "       'Policy_Sales_Channel', 'Vintage', 'Response'],\n",
       "      dtype='object')"
      ]
     },
     "execution_count": 7,
     "metadata": {},
     "output_type": "execute_result"
    }
   ],
   "source": [
    "df1.columns"
   ]
  },
  {
   "cell_type": "code",
   "execution_count": 8,
   "metadata": {},
   "outputs": [
    {
     "data": {
      "text/html": [
       "<div>\n",
       "<style scoped>\n",
       "    .dataframe tbody tr th:only-of-type {\n",
       "        vertical-align: middle;\n",
       "    }\n",
       "\n",
       "    .dataframe tbody tr th {\n",
       "        vertical-align: top;\n",
       "    }\n",
       "\n",
       "    .dataframe thead th {\n",
       "        text-align: right;\n",
       "    }\n",
       "</style>\n",
       "<table border=\"1\" class=\"dataframe\">\n",
       "  <thead>\n",
       "    <tr style=\"text-align: right;\">\n",
       "      <th></th>\n",
       "      <th>id</th>\n",
       "      <th>Gender</th>\n",
       "      <th>Age</th>\n",
       "      <th>Driving_License</th>\n",
       "      <th>Region_Code</th>\n",
       "      <th>Previously_Insured</th>\n",
       "      <th>Vehicle_Age</th>\n",
       "      <th>Vehicle_Damage</th>\n",
       "      <th>Annual_Premium</th>\n",
       "      <th>Policy_Sales_Channel</th>\n",
       "      <th>Vintage</th>\n",
       "      <th>Response</th>\n",
       "    </tr>\n",
       "  </thead>\n",
       "  <tbody>\n",
       "    <tr>\n",
       "      <th>0</th>\n",
       "      <td>1</td>\n",
       "      <td>Male</td>\n",
       "      <td>44</td>\n",
       "      <td>1</td>\n",
       "      <td>28.0</td>\n",
       "      <td>0</td>\n",
       "      <td>&gt; 2 Years</td>\n",
       "      <td>Yes</td>\n",
       "      <td>40454.0</td>\n",
       "      <td>26.0</td>\n",
       "      <td>217</td>\n",
       "      <td>1</td>\n",
       "    </tr>\n",
       "    <tr>\n",
       "      <th>1</th>\n",
       "      <td>2</td>\n",
       "      <td>Male</td>\n",
       "      <td>76</td>\n",
       "      <td>1</td>\n",
       "      <td>3.0</td>\n",
       "      <td>0</td>\n",
       "      <td>1-2 Year</td>\n",
       "      <td>No</td>\n",
       "      <td>33536.0</td>\n",
       "      <td>26.0</td>\n",
       "      <td>183</td>\n",
       "      <td>0</td>\n",
       "    </tr>\n",
       "    <tr>\n",
       "      <th>2</th>\n",
       "      <td>3</td>\n",
       "      <td>Male</td>\n",
       "      <td>47</td>\n",
       "      <td>1</td>\n",
       "      <td>28.0</td>\n",
       "      <td>0</td>\n",
       "      <td>&gt; 2 Years</td>\n",
       "      <td>Yes</td>\n",
       "      <td>38294.0</td>\n",
       "      <td>26.0</td>\n",
       "      <td>27</td>\n",
       "      <td>1</td>\n",
       "    </tr>\n",
       "    <tr>\n",
       "      <th>3</th>\n",
       "      <td>4</td>\n",
       "      <td>Male</td>\n",
       "      <td>21</td>\n",
       "      <td>1</td>\n",
       "      <td>11.0</td>\n",
       "      <td>1</td>\n",
       "      <td>&lt; 1 Year</td>\n",
       "      <td>No</td>\n",
       "      <td>28619.0</td>\n",
       "      <td>152.0</td>\n",
       "      <td>203</td>\n",
       "      <td>0</td>\n",
       "    </tr>\n",
       "    <tr>\n",
       "      <th>4</th>\n",
       "      <td>5</td>\n",
       "      <td>Female</td>\n",
       "      <td>29</td>\n",
       "      <td>1</td>\n",
       "      <td>41.0</td>\n",
       "      <td>1</td>\n",
       "      <td>&lt; 1 Year</td>\n",
       "      <td>No</td>\n",
       "      <td>27496.0</td>\n",
       "      <td>152.0</td>\n",
       "      <td>39</td>\n",
       "      <td>0</td>\n",
       "    </tr>\n",
       "  </tbody>\n",
       "</table>\n",
       "</div>"
      ],
      "text/plain": [
       "   id  Gender  Age  Driving_License  Region_Code  Previously_Insured Vehicle_Age Vehicle_Damage  Annual_Premium  Policy_Sales_Channel  Vintage  Response\n",
       "0   1    Male   44                1         28.0                   0   > 2 Years            Yes         40454.0                  26.0      217         1\n",
       "1   2    Male   76                1          3.0                   0    1-2 Year             No         33536.0                  26.0      183         0\n",
       "2   3    Male   47                1         28.0                   0   > 2 Years            Yes         38294.0                  26.0       27         1\n",
       "3   4    Male   21                1         11.0                   1    < 1 Year             No         28619.0                 152.0      203         0\n",
       "4   5  Female   29                1         41.0                   1    < 1 Year             No         27496.0                 152.0       39         0"
      ]
     },
     "execution_count": 8,
     "metadata": {},
     "output_type": "execute_result"
    }
   ],
   "source": [
    "df1.head(5)\n",
    "\n",
    "# Notes: \n",
    "# Vehicle_Age: Separar o Year da coluna\n",
    "# Vehicle_damage: Pode ser 1=yes 0=no\n",
    "# Vintage: precisa modificar alguma coisa pra tipo data??\n"
   ]
  },
  {
   "cell_type": "code",
   "execution_count": 9,
   "metadata": {},
   "outputs": [
    {
     "name": "stdout",
     "output_type": "stream",
     "text": [
      "<class 'pandas.core.frame.DataFrame'>\n",
      "RangeIndex: 381109 entries, 0 to 381108\n",
      "Data columns (total 12 columns):\n",
      " #   Column                Non-Null Count   Dtype  \n",
      "---  ------                --------------   -----  \n",
      " 0   id                    381109 non-null  int64  \n",
      " 1   Gender                381109 non-null  object \n",
      " 2   Age                   381109 non-null  int64  \n",
      " 3   Driving_License       381109 non-null  int64  \n",
      " 4   Region_Code           381109 non-null  float64\n",
      " 5   Previously_Insured    381109 non-null  int64  \n",
      " 6   Vehicle_Age           381109 non-null  object \n",
      " 7   Vehicle_Damage        381109 non-null  object \n",
      " 8   Annual_Premium        381109 non-null  float64\n",
      " 9   Policy_Sales_Channel  381109 non-null  float64\n",
      " 10  Vintage               381109 non-null  int64  \n",
      " 11  Response              381109 non-null  int64  \n",
      "dtypes: float64(3), int64(6), object(3)\n",
      "memory usage: 34.9+ MB\n"
     ]
    }
   ],
   "source": [
    "df1.info()"
   ]
  },
  {
   "cell_type": "code",
   "execution_count": 10,
   "metadata": {},
   "outputs": [
    {
     "name": "stdout",
     "output_type": "stream",
     "text": [
      "<class 'pandas.core.frame.DataFrame'>\n",
      "RangeIndex: 127037 entries, 0 to 127036\n",
      "Data columns (total 11 columns):\n",
      " #   Column                Non-Null Count   Dtype  \n",
      "---  ------                --------------   -----  \n",
      " 0   id                    127037 non-null  int64  \n",
      " 1   Gender                127037 non-null  object \n",
      " 2   Age                   127037 non-null  int64  \n",
      " 3   Driving_License       127037 non-null  int64  \n",
      " 4   Region_Code           127037 non-null  float64\n",
      " 5   Previously_Insured    127037 non-null  int64  \n",
      " 6   Vehicle_Age           127037 non-null  object \n",
      " 7   Vehicle_Damage        127037 non-null  object \n",
      " 8   Annual_Premium        127037 non-null  float64\n",
      " 9   Policy_Sales_Channel  127037 non-null  float64\n",
      " 10  Vintage               127037 non-null  int64  \n",
      "dtypes: float64(3), int64(5), object(3)\n",
      "memory usage: 10.7+ MB\n"
     ]
    }
   ],
   "source": [
    "df1test.info()"
   ]
  },
  {
   "attachments": {},
   "cell_type": "markdown",
   "metadata": {},
   "source": [
    "### Rename Columns"
   ]
  },
  {
   "cell_type": "code",
   "execution_count": 11,
   "metadata": {},
   "outputs": [],
   "source": [
    "old_columns = [ 'id', 'Gender', 'Age', 'Driving_License', 'Region_Code',\n",
    "       'Previously_Insured', 'Vehicle_Age', 'Vehicle_Damage', 'Annual_Premium',\n",
    "       'Policy_Sales_Channel', 'Vintage', 'Response']\n",
    "\n",
    "snakecase = lambda x: inflection.underscore( x )\n",
    "cols_new = list (map (snakecase, old_columns))\n",
    "\n",
    "# Rename train\n",
    "df1.columns = cols_new\n",
    "\n",
    "old_columns_test = [ 'id', 'Gender', 'Age', 'Driving_License', 'Region_Code',\n",
    "       'Previously_Insured', 'Vehicle_Age', 'Vehicle_Damage', 'Annual_Premium',\n",
    "       'Policy_Sales_Channel', 'Vintage']\n",
    "\n",
    "snakecase = lambda x: inflection.underscore( x )\n",
    "cols_new_test = list (map (snakecase, old_columns_test))\n",
    "\n",
    "# Rename train\n",
    "df1test.columns = cols_new_test"
   ]
  },
  {
   "attachments": {},
   "cell_type": "markdown",
   "metadata": {},
   "source": [
    "### Changing Data"
   ]
  },
  {
   "cell_type": "code",
   "execution_count": 12,
   "metadata": {},
   "outputs": [],
   "source": [
    "df2 = change_all(df1)\n",
    "df2test = change_all(df1test)"
   ]
  },
  {
   "cell_type": "code",
   "execution_count": 13,
   "metadata": {},
   "outputs": [
    {
     "data": {
      "text/html": [
       "<div>\n",
       "<style scoped>\n",
       "    .dataframe tbody tr th:only-of-type {\n",
       "        vertical-align: middle;\n",
       "    }\n",
       "\n",
       "    .dataframe tbody tr th {\n",
       "        vertical-align: top;\n",
       "    }\n",
       "\n",
       "    .dataframe thead th {\n",
       "        text-align: right;\n",
       "    }\n",
       "</style>\n",
       "<table border=\"1\" class=\"dataframe\">\n",
       "  <thead>\n",
       "    <tr style=\"text-align: right;\">\n",
       "      <th></th>\n",
       "      <th>id</th>\n",
       "      <th>gender</th>\n",
       "      <th>age</th>\n",
       "      <th>driving_license</th>\n",
       "      <th>region_code</th>\n",
       "      <th>previously_insured</th>\n",
       "      <th>vehicle_age</th>\n",
       "      <th>vehicle_damage</th>\n",
       "      <th>annual_premium</th>\n",
       "      <th>policy_sales_channel</th>\n",
       "      <th>vintage</th>\n",
       "      <th>response</th>\n",
       "      <th>vehicle_age_year</th>\n",
       "    </tr>\n",
       "  </thead>\n",
       "  <tbody>\n",
       "    <tr>\n",
       "      <th>0</th>\n",
       "      <td>1</td>\n",
       "      <td>Male</td>\n",
       "      <td>44</td>\n",
       "      <td>1</td>\n",
       "      <td>28</td>\n",
       "      <td>0</td>\n",
       "      <td>&gt; 2 Years</td>\n",
       "      <td>1</td>\n",
       "      <td>40454</td>\n",
       "      <td>26</td>\n",
       "      <td>217</td>\n",
       "      <td>1</td>\n",
       "      <td>2</td>\n",
       "    </tr>\n",
       "  </tbody>\n",
       "</table>\n",
       "</div>"
      ],
      "text/plain": [
       "   id gender  age  driving_license  region_code  previously_insured vehicle_age  vehicle_damage  annual_premium  policy_sales_channel  vintage  response  vehicle_age_year\n",
       "0   1   Male   44                1           28                   0   > 2 Years               1           40454                    26      217         1                 2"
      ]
     },
     "execution_count": 13,
     "metadata": {},
     "output_type": "execute_result"
    }
   ],
   "source": [
    "df2.head(1)"
   ]
  },
  {
   "attachments": {},
   "cell_type": "markdown",
   "metadata": {},
   "source": [
    "# Feature Engineering - Later"
   ]
  },
  {
   "cell_type": "code",
   "execution_count": 23,
   "metadata": {},
   "outputs": [],
   "source": [
    "# df3"
   ]
  },
  {
   "attachments": {},
   "cell_type": "markdown",
   "metadata": {},
   "source": [
    "# EDA - Exploratory Data Analysis"
   ]
  },
  {
   "attachments": {},
   "cell_type": "markdown",
   "metadata": {},
   "source": [
    "## Descriptive Statistical"
   ]
  },
  {
   "attachments": {},
   "cell_type": "markdown",
   "metadata": {},
   "source": [
    "### Data Dimensions"
   ]
  },
  {
   "cell_type": "code",
   "execution_count": 14,
   "metadata": {},
   "outputs": [
    {
     "name": "stdout",
     "output_type": "stream",
     "text": [
      "Number of Rows 381109\n",
      "Number of Columns 13\n"
     ]
    }
   ],
   "source": [
    "print(f'Number of Rows {df2.shape[0]}')\n",
    "print(f'Number of Columns {df2.shape[1]}')"
   ]
  },
  {
   "cell_type": "code",
   "execution_count": 15,
   "metadata": {},
   "outputs": [
    {
     "data": {
      "image/png": "[encoded data removed]",
      "text/plain": [
       "<Figure size 2500x1200 with 1 Axes>"
      ]
     },
     "metadata": {},
     "output_type": "display_data"
    }
   ],
   "source": [
    "# counts each class for the target var\n",
    "_ = sns.countplot(x=df2['response'])\n",
    "\n",
    "# sets plot features\n",
    "plt.xticks(ticks=[0,1], labels=['No','Yes'])\n",
    "\n",
    "# displays the plot\n",
    "plt.show()\n",
    "\n",
    "# BALANCEAR DADOS!!!!!!"
   ]
  },
  {
   "attachments": {},
   "cell_type": "markdown",
   "metadata": {},
   "source": [
    "### Attributes Analysis"
   ]
  },
  {
   "cell_type": "code",
   "execution_count": 16,
   "metadata": {},
   "outputs": [],
   "source": [
    "# Split Numerical/Categorical Atributes\n",
    "\n",
    "num_attributes = df1.select_dtypes( include=['int64', 'float64', 'int32'])\n",
    "cat_attributes = df1.select_dtypes( include=['object'])\n",
    "\n",
    "# Criar: df_eda: \n",
    "# num_attributes - int, float\n",
    "# cat_attributes = driving_license, previously_insured, vehicle_damage, gender"
   ]
  },
  {
   "cell_type": "code",
   "execution_count": 35,
   "metadata": {},
   "outputs": [
    {
     "data": {
      "text/html": [
       "<div>\n",
       "<style scoped>\n",
       "    .dataframe tbody tr th:only-of-type {\n",
       "        vertical-align: middle;\n",
       "    }\n",
       "\n",
       "    .dataframe tbody tr th {\n",
       "        vertical-align: top;\n",
       "    }\n",
       "\n",
       "    .dataframe thead th {\n",
       "        text-align: right;\n",
       "    }\n",
       "</style>\n",
       "<table border=\"1\" class=\"dataframe\">\n",
       "  <thead>\n",
       "    <tr style=\"text-align: right;\">\n",
       "      <th></th>\n",
       "      <th>id</th>\n",
       "      <th>gender</th>\n",
       "      <th>age</th>\n",
       "      <th>driving_license</th>\n",
       "      <th>region_code</th>\n",
       "      <th>previously_insured</th>\n",
       "      <th>vehicle_age</th>\n",
       "      <th>vehicle_damage</th>\n",
       "      <th>annual_premium</th>\n",
       "      <th>policy_sales_channel</th>\n",
       "      <th>vintage</th>\n",
       "      <th>response</th>\n",
       "      <th>vehicle_age_year</th>\n",
       "    </tr>\n",
       "  </thead>\n",
       "  <tbody>\n",
       "    <tr>\n",
       "      <th>0</th>\n",
       "      <td>1</td>\n",
       "      <td>Male</td>\n",
       "      <td>44</td>\n",
       "      <td>1</td>\n",
       "      <td>28</td>\n",
       "      <td>0</td>\n",
       "      <td>&gt; 2 Years</td>\n",
       "      <td>1</td>\n",
       "      <td>40454</td>\n",
       "      <td>26</td>\n",
       "      <td>217</td>\n",
       "      <td>1</td>\n",
       "      <td>2</td>\n",
       "    </tr>\n",
       "    <tr>\n",
       "      <th>1</th>\n",
       "      <td>2</td>\n",
       "      <td>Male</td>\n",
       "      <td>76</td>\n",
       "      <td>1</td>\n",
       "      <td>3</td>\n",
       "      <td>0</td>\n",
       "      <td>1-2 Year</td>\n",
       "      <td>0</td>\n",
       "      <td>33536</td>\n",
       "      <td>26</td>\n",
       "      <td>183</td>\n",
       "      <td>0</td>\n",
       "      <td>1</td>\n",
       "    </tr>\n",
       "  </tbody>\n",
       "</table>\n",
       "</div>"
      ],
      "text/plain": [
       "   id gender  age  driving_license  region_code  previously_insured vehicle_age  vehicle_damage  annual_premium  policy_sales_channel  vintage  response  vehicle_age_year\n",
       "0   1   Male   44                1           28                   0   > 2 Years               1           40454                    26      217         1                 2\n",
       "1   2   Male   76                1            3                   0    1-2 Year               0           33536                    26      183         0                 1"
      ]
     },
     "execution_count": 35,
     "metadata": {},
     "output_type": "execute_result"
    }
   ],
   "source": [
    "df1.head(2)"
   ]
  },
  {
   "cell_type": "code",
   "execution_count": 34,
   "metadata": {},
   "outputs": [
    {
     "data": {
      "text/plain": [
       "array([2, 1, 0], dtype=int64)"
      ]
     },
     "execution_count": 34,
     "metadata": {},
     "output_type": "execute_result"
    }
   ],
   "source": [
    "df1['vehicle_age_year'].unique()"
   ]
  },
  {
   "cell_type": "code",
   "execution_count": 17,
   "metadata": {},
   "outputs": [
    {
     "data": {
      "text/html": [
       "<div>\n",
       "<style scoped>\n",
       "    .dataframe tbody tr th:only-of-type {\n",
       "        vertical-align: middle;\n",
       "    }\n",
       "\n",
       "    .dataframe tbody tr th {\n",
       "        vertical-align: top;\n",
       "    }\n",
       "\n",
       "    .dataframe thead th {\n",
       "        text-align: right;\n",
       "    }\n",
       "</style>\n",
       "<table border=\"1\" class=\"dataframe\">\n",
       "  <thead>\n",
       "    <tr style=\"text-align: right;\">\n",
       "      <th></th>\n",
       "      <th>attributes</th>\n",
       "      <th>min</th>\n",
       "      <th>max</th>\n",
       "      <th>range</th>\n",
       "      <th>mean</th>\n",
       "      <th>median</th>\n",
       "      <th>std</th>\n",
       "      <th>skew</th>\n",
       "      <th>kurtosis</th>\n",
       "    </tr>\n",
       "  </thead>\n",
       "  <tbody>\n",
       "    <tr>\n",
       "      <th>0</th>\n",
       "      <td>id</td>\n",
       "      <td>1.0</td>\n",
       "      <td>381109.0</td>\n",
       "      <td>381108.0</td>\n",
       "      <td>190555.000000</td>\n",
       "      <td>190555.0</td>\n",
       "      <td>110016.691870</td>\n",
       "      <td>9.443274e-16</td>\n",
       "      <td>-1.200000</td>\n",
       "    </tr>\n",
       "    <tr>\n",
       "      <th>1</th>\n",
       "      <td>age</td>\n",
       "      <td>20.0</td>\n",
       "      <td>85.0</td>\n",
       "      <td>65.0</td>\n",
       "      <td>38.822584</td>\n",
       "      <td>36.0</td>\n",
       "      <td>15.511591</td>\n",
       "      <td>6.725390e-01</td>\n",
       "      <td>-0.565655</td>\n",
       "    </tr>\n",
       "    <tr>\n",
       "      <th>2</th>\n",
       "      <td>driving_license</td>\n",
       "      <td>0.0</td>\n",
       "      <td>1.0</td>\n",
       "      <td>1.0</td>\n",
       "      <td>0.997869</td>\n",
       "      <td>1.0</td>\n",
       "      <td>0.046109</td>\n",
       "      <td>-2.159518e+01</td>\n",
       "      <td>464.354302</td>\n",
       "    </tr>\n",
       "    <tr>\n",
       "      <th>3</th>\n",
       "      <td>region_code</td>\n",
       "      <td>0.0</td>\n",
       "      <td>52.0</td>\n",
       "      <td>52.0</td>\n",
       "      <td>26.388807</td>\n",
       "      <td>28.0</td>\n",
       "      <td>13.229871</td>\n",
       "      <td>-1.152664e-01</td>\n",
       "      <td>-0.867857</td>\n",
       "    </tr>\n",
       "    <tr>\n",
       "      <th>4</th>\n",
       "      <td>previously_insured</td>\n",
       "      <td>0.0</td>\n",
       "      <td>1.0</td>\n",
       "      <td>1.0</td>\n",
       "      <td>0.458210</td>\n",
       "      <td>0.0</td>\n",
       "      <td>0.498251</td>\n",
       "      <td>1.677471e-01</td>\n",
       "      <td>-1.971871</td>\n",
       "    </tr>\n",
       "    <tr>\n",
       "      <th>5</th>\n",
       "      <td>vehicle_damage</td>\n",
       "      <td>0.0</td>\n",
       "      <td>1.0</td>\n",
       "      <td>1.0</td>\n",
       "      <td>0.504877</td>\n",
       "      <td>1.0</td>\n",
       "      <td>0.499976</td>\n",
       "      <td>-1.950724e-02</td>\n",
       "      <td>-1.999630</td>\n",
       "    </tr>\n",
       "    <tr>\n",
       "      <th>6</th>\n",
       "      <td>annual_premium</td>\n",
       "      <td>2630.0</td>\n",
       "      <td>540165.0</td>\n",
       "      <td>537535.0</td>\n",
       "      <td>30564.389581</td>\n",
       "      <td>31669.0</td>\n",
       "      <td>17213.132474</td>\n",
       "      <td>1.766087e+00</td>\n",
       "      <td>34.004569</td>\n",
       "    </tr>\n",
       "    <tr>\n",
       "      <th>7</th>\n",
       "      <td>policy_sales_channel</td>\n",
       "      <td>1.0</td>\n",
       "      <td>163.0</td>\n",
       "      <td>162.0</td>\n",
       "      <td>112.034295</td>\n",
       "      <td>133.0</td>\n",
       "      <td>54.203924</td>\n",
       "      <td>-9.000081e-01</td>\n",
       "      <td>-0.970810</td>\n",
       "    </tr>\n",
       "    <tr>\n",
       "      <th>8</th>\n",
       "      <td>vintage</td>\n",
       "      <td>10.0</td>\n",
       "      <td>299.0</td>\n",
       "      <td>289.0</td>\n",
       "      <td>154.347397</td>\n",
       "      <td>154.0</td>\n",
       "      <td>83.671194</td>\n",
       "      <td>3.029517e-03</td>\n",
       "      <td>-1.200688</td>\n",
       "    </tr>\n",
       "    <tr>\n",
       "      <th>9</th>\n",
       "      <td>response</td>\n",
       "      <td>0.0</td>\n",
       "      <td>1.0</td>\n",
       "      <td>1.0</td>\n",
       "      <td>0.122563</td>\n",
       "      <td>0.0</td>\n",
       "      <td>0.327935</td>\n",
       "      <td>2.301906e+00</td>\n",
       "      <td>3.298788</td>\n",
       "    </tr>\n",
       "    <tr>\n",
       "      <th>10</th>\n",
       "      <td>vehicle_age_year</td>\n",
       "      <td>0.0</td>\n",
       "      <td>2.0</td>\n",
       "      <td>2.0</td>\n",
       "      <td>0.609616</td>\n",
       "      <td>1.0</td>\n",
       "      <td>0.567439</td>\n",
       "      <td>2.528959e-01</td>\n",
       "      <td>-0.792253</td>\n",
       "    </tr>\n",
       "  </tbody>\n",
       "</table>\n",
       "</div>"
      ],
      "text/plain": [
       "              attributes     min       max     range           mean    median            std          skew    kurtosis\n",
       "0                     id     1.0  381109.0  381108.0  190555.000000  190555.0  110016.691870  9.443274e-16   -1.200000\n",
       "1                    age    20.0      85.0      65.0      38.822584      36.0      15.511591  6.725390e-01   -0.565655\n",
       "2        driving_license     0.0       1.0       1.0       0.997869       1.0       0.046109 -2.159518e+01  464.354302\n",
       "3            region_code     0.0      52.0      52.0      26.388807      28.0      13.229871 -1.152664e-01   -0.867857\n",
       "4     previously_insured     0.0       1.0       1.0       0.458210       0.0       0.498251  1.677471e-01   -1.971871\n",
       "5         vehicle_damage     0.0       1.0       1.0       0.504877       1.0       0.499976 -1.950724e-02   -1.999630\n",
       "6         annual_premium  2630.0  540165.0  537535.0   30564.389581   31669.0   17213.132474  1.766087e+00   34.004569\n",
       "7   policy_sales_channel     1.0     163.0     162.0     112.034295     133.0      54.203924 -9.000081e-01   -0.970810\n",
       "8                vintage    10.0     299.0     289.0     154.347397     154.0      83.671194  3.029517e-03   -1.200688\n",
       "9               response     0.0       1.0       1.0       0.122563       0.0       0.327935  2.301906e+00    3.298788\n",
       "10      vehicle_age_year     0.0       2.0       2.0       0.609616       1.0       0.567439  2.528959e-01   -0.792253"
      ]
     },
     "execution_count": 17,
     "metadata": {},
     "output_type": "execute_result"
    }
   ],
   "source": [
    "# Cental Tendency - mean, median\n",
    "ct1 = pd.DataFrame(num_attributes.apply( np.mean )).T\n",
    "ct2 = pd.DataFrame(num_attributes.apply( np.median )).T\n",
    "\n",
    "\n",
    "# Dispersion - std, min, max, range, skew, kurtosis\n",
    "d1 = pd.DataFrame(num_attributes.apply( np.std )).T\n",
    "d2 = pd.DataFrame(num_attributes.apply( np.min )).T\n",
    "d3 = pd.DataFrame(num_attributes.apply( np.max )).T\n",
    "d4 = pd.DataFrame(num_attributes.apply( lambda x: x.max() - x.min() )).T\n",
    "d5 = pd.DataFrame(num_attributes.apply( lambda x: x.skew() )).T\n",
    "d6 = pd.DataFrame(num_attributes.apply( lambda x: x.kurtosis() )).T\n",
    "\n",
    "\n",
    "# Concatenate\n",
    "table_m = pd.concat( [ d2, d3, d4, ct1, ct2, d1, d5, d6 ]).T.reset_index()\n",
    "table_m.columns = ['attributes', 'min', 'max', 'range', 'mean', 'median', 'std', 'skew', 'kurtosis']\n",
    "\n",
    "table_m"
   ]
  },
  {
   "cell_type": "code",
   "execution_count": 18,
   "metadata": {},
   "outputs": [
    {
     "data": {
      "text/html": [
       "<div>\n",
       "<style scoped>\n",
       "    .dataframe tbody tr th:only-of-type {\n",
       "        vertical-align: middle;\n",
       "    }\n",
       "\n",
       "    .dataframe tbody tr th {\n",
       "        vertical-align: top;\n",
       "    }\n",
       "\n",
       "    .dataframe thead th {\n",
       "        text-align: right;\n",
       "    }\n",
       "</style>\n",
       "<table border=\"1\" class=\"dataframe\">\n",
       "  <thead>\n",
       "    <tr style=\"text-align: right;\">\n",
       "      <th></th>\n",
       "      <th>gender</th>\n",
       "      <th>vehicle_age</th>\n",
       "    </tr>\n",
       "  </thead>\n",
       "  <tbody>\n",
       "    <tr>\n",
       "      <th>185313</th>\n",
       "      <td>Female</td>\n",
       "      <td>&lt; 1 Year</td>\n",
       "    </tr>\n",
       "    <tr>\n",
       "      <th>203477</th>\n",
       "      <td>Female</td>\n",
       "      <td>&lt; 1 Year</td>\n",
       "    </tr>\n",
       "    <tr>\n",
       "      <th>282918</th>\n",
       "      <td>Female</td>\n",
       "      <td>1-2 Year</td>\n",
       "    </tr>\n",
       "    <tr>\n",
       "      <th>266047</th>\n",
       "      <td>Male</td>\n",
       "      <td>&lt; 1 Year</td>\n",
       "    </tr>\n",
       "    <tr>\n",
       "      <th>299500</th>\n",
       "      <td>Male</td>\n",
       "      <td>1-2 Year</td>\n",
       "    </tr>\n",
       "    <tr>\n",
       "      <th>218754</th>\n",
       "      <td>Female</td>\n",
       "      <td>1-2 Year</td>\n",
       "    </tr>\n",
       "    <tr>\n",
       "      <th>227025</th>\n",
       "      <td>Male</td>\n",
       "      <td>1-2 Year</td>\n",
       "    </tr>\n",
       "    <tr>\n",
       "      <th>213946</th>\n",
       "      <td>Female</td>\n",
       "      <td>&lt; 1 Year</td>\n",
       "    </tr>\n",
       "    <tr>\n",
       "      <th>308485</th>\n",
       "      <td>Female</td>\n",
       "      <td>1-2 Year</td>\n",
       "    </tr>\n",
       "    <tr>\n",
       "      <th>194693</th>\n",
       "      <td>Female</td>\n",
       "      <td>&lt; 1 Year</td>\n",
       "    </tr>\n",
       "  </tbody>\n",
       "</table>\n",
       "</div>"
      ],
      "text/plain": [
       "        gender vehicle_age\n",
       "185313  Female    < 1 Year\n",
       "203477  Female    < 1 Year\n",
       "282918  Female    1-2 Year\n",
       "266047    Male    < 1 Year\n",
       "299500    Male    1-2 Year\n",
       "218754  Female    1-2 Year\n",
       "227025    Male    1-2 Year\n",
       "213946  Female    < 1 Year\n",
       "308485  Female    1-2 Year\n",
       "194693  Female    < 1 Year"
      ]
     },
     "execution_count": 18,
     "metadata": {},
     "output_type": "execute_result"
    }
   ],
   "source": [
    "cat_attributes = df2.select_dtypes( include=['object']).sample(10)\n",
    "cat_attributes"
   ]
  },
  {
   "cell_type": "markdown",
   "metadata": {},
   "source": [
    "## EDA"
   ]
  },
  {
   "attachments": {},
   "cell_type": "markdown",
   "metadata": {},
   "source": [
    "### Univariate Anaysis"
   ]
  },
  {
   "attachments": {},
   "cell_type": "markdown",
   "metadata": {},
   "source": [
    "#### Numerial Variable"
   ]
  },
  {
   "cell_type": "code",
   "execution_count": 20,
   "metadata": {},
   "outputs": [],
   "source": [
    "# #Age analysis\n",
    "# plt.subplot(2,1,1)\n",
    "# sns.histplot(x='age',\n",
    "#              data=df2[df2['satisfaction'] == 'Satisfied'],\n",
    "#              hue='satisfaction');\n",
    "\n",
    "# plt.subplot(2,1,2)\n",
    "# sns.histplot(x='age',\n",
    "#              data=df2[df2['satisfaction'] == 'Neutral or Dissatisfaction'],\n",
    "#              hue='satisfaction');"
   ]
  },
  {
   "attachments": {},
   "cell_type": "markdown",
   "metadata": {},
   "source": [
    "#### Categorical Variable"
   ]
  },
  {
   "cell_type": "code",
   "execution_count": 21,
   "metadata": {},
   "outputs": [],
   "source": [
    "# # Categorical analysis\n",
    "\n",
    "# plt.subplot(3,3,1)\n",
    "# sns.countplot(\n",
    "#     x='customer_type',\n",
    "#     hue=('satisfaction'),\n",
    "#     data=df2,\n",
    "# );\n",
    "\n",
    "# plt.subplot(3,3,2)\n",
    "# sns.countplot(\n",
    "#     x='type_of_purchase',\n",
    "#     hue=('satisfaction'),\n",
    "#     data=df2,\n",
    "# );\n",
    "\n",
    "# plt.subplot(3,3,3)\n",
    "# sns.countplot(\n",
    "#      x='store_size',\n",
    "#     hue=('satisfaction'),\n",
    "#     data=df2,\n",
    "# );"
   ]
  },
  {
   "attachments": {},
   "cell_type": "markdown",
   "metadata": {},
   "source": [
    "### Bivariate Analysis - later"
   ]
  },
  {
   "attachments": {},
   "cell_type": "markdown",
   "metadata": {},
   "source": [
    "#### Hyphoteses List\n",
    "\n"
   ]
  },
  {
   "attachments": {},
   "cell_type": "markdown",
   "metadata": {},
   "source": [
    "- Clientes que já pagaram seguro previamente comprariam novo seguro\n",
    "- Mulheres compram mais seguros do que homem\n",
    "- Clientes que vivem em regiões mais perigosas compram mais\n",
    "- Clientes com mais idade compram mais\n",
    "- Clientes que não possuem CHN não compram\n",
    "- Carros mais danificados precisam de seguro\n",
    "- Carros mais velhos precisam de seguro\n",
    "- Carros que já possuem seguros não precisam de novo seguro"
   ]
  },
  {
   "attachments": {},
   "cell_type": "markdown",
   "metadata": {},
   "source": [
    "#### Mental Map"
   ]
  },
  {
   "attachments": {},
   "cell_type": "markdown",
   "metadata": {},
   "source": [
    "### Multivariate Analysis"
   ]
  },
  {
   "cell_type": "code",
   "execution_count": 22,
   "metadata": {},
   "outputs": [],
   "source": [
    "# nominal.associations(df3.drop('id',axis = 1));"
   ]
  },
  {
   "attachments": {},
   "cell_type": "markdown",
   "metadata": {},
   "source": [
    "# Data Preparation"
   ]
  },
  {
   "cell_type": "code",
   "execution_count": 24,
   "metadata": {},
   "outputs": [],
   "source": [
    "# Df4\n",
    "df4 = df2.copy()\n",
    "df4test = df2test.copy()"
   ]
  },
  {
   "cell_type": "markdown",
   "metadata": {},
   "source": [
    "### Data Filtering"
   ]
  },
  {
   "cell_type": "code",
   "execution_count": 30,
   "metadata": {},
   "outputs": [],
   "source": [
    "# Drop!! vehicle_age\n",
    "\n",
    "df6.drop(['vehicle_age'], axis=1, inplace=True)\n",
    "df6test.drop(['vehicle_age'], axis=1, inplace=True)"
   ]
  },
  {
   "cell_type": "markdown",
   "metadata": {},
   "source": [
    "### Data Split"
   ]
  },
  {
   "cell_type": "code",
   "execution_count": null,
   "metadata": {},
   "outputs": [],
   "source": [
    "# # Separando as variáveis explicativas da variável resposta.\n",
    "\n",
    "# x = df6.drop('response', axis = 1)\n",
    "# y = df6['response']\n",
    "\n",
    "\n",
    "# # Treino(100%) -> treino(80%) e validação(20%)\n",
    "# x_train, x_validation, y_train, y_validation = ms.train_test_split(x, y, test_size=0.20) \n",
    "\n",
    "# # Criar o objeto RandomOverSampler - Ajustando variável 'response' desbalanceada\n",
    "# over_sampler = RandomOverSampler(random_state=42)\n",
    "\n",
    "# # Aplicar o oversampling no conjunto de treinamento\n",
    "# x_train_balanced, y_train_balanced = over_sampler.fit_resample(x_train, y_train)\n",
    "\n",
    "# df_train = pd.concat([x_train, y_train], axis=1) # juntar as variaveis preditoras com a variavel alvo\n",
    "\n",
    "# # Teste =  df6test\n"
   ]
  },
  {
   "cell_type": "code",
   "execution_count": null,
   "metadata": {},
   "outputs": [
    {
     "name": "stdout",
     "output_type": "stream",
     "text": [
      "0    334399\n",
      "1     46710\n",
      "Name: response, dtype: int64\n"
     ]
    }
   ],
   "source": [
    "print(df6['response'].value_counts())"
   ]
  },
  {
   "cell_type": "code",
   "execution_count": null,
   "metadata": {},
   "outputs": [],
   "source": [
    "# Separando as variáveis explicativas da variável resposta.\n",
    "\n",
    "x = df6.drop('response', axis = 1)\n",
    "y = df6['response']\n",
    "\n",
    "# # Criar o objeto RandomOverSampler - Ajustando variável 'response' desbalanceada\n",
    "# over_sampler = RandomOverSampler(random_state=42)\n",
    "\n",
    "# # Aplicar o oversampling no conjunto de treinamento\n",
    "# x_train_balanced, y_train_balanced = over_sampler.fit_resample(x, y)\n",
    "\n",
    "df_train = pd.concat([x, y], axis=1) # juntar as variaveis preditoras com a variavel alvo\n",
    "\n",
    "# Teste =  df6test"
   ]
  },
  {
   "cell_type": "code",
   "execution_count": null,
   "metadata": {},
   "outputs": [],
   "source": []
  },
  {
   "cell_type": "markdown",
   "metadata": {},
   "source": [
    "### Preparation"
   ]
  },
  {
   "cell_type": "code",
   "execution_count": 26,
   "metadata": {},
   "outputs": [],
   "source": [
    "def data_preparation(data):\n",
    "    rs = RobustScaler()\n",
    "    mms = MinMaxScaler()\n",
    "    le = LabelEncoder()\n",
    "\n",
    "    ## Rescaling\n",
    "\n",
    "    # MinMax scaler = sem outlier\n",
    "    # age, region_code, policy_sales_channel, vintage, response(?), vehicle_age_year\n",
    "    data['age'] = mms.fit_transform(data[['age']].values)\n",
    "    data['region_code'] = mms.fit_transform(data[['region_code']].values)\n",
    "    data['policy_sales_channel'] = mms.fit_transform(data[['policy_sales_channel']].values)\n",
    "    data['vintage'] = mms.fit_transform(data[['vintage']].values)\n",
    "    data['vehicle_age_year'] = mms.fit_transform(data[['vehicle_age_year']].values)\n",
    "\n",
    "    # RobustScaler = com outlier\n",
    "    # annual_premium\n",
    "    data['annual_premium'] = rs.fit_transform(data[['annual_premium']].values)\n",
    "\n",
    "    ## Transformation\n",
    "\n",
    "    # LaberEncoder - Categorical\n",
    "    data['gender'] = le.fit_transform(data[['gender']].values.ravel())\n",
    "\n",
    "    preparation = data\n",
    "    return preparation"
   ]
  },
  {
   "cell_type": "code",
   "execution_count": 27,
   "metadata": {},
   "outputs": [],
   "source": [
    "df5 = data_preparation(df4)\n",
    "df5test = data_preparation(df4test)"
   ]
  },
  {
   "cell_type": "code",
   "execution_count": 28,
   "metadata": {},
   "outputs": [
    {
     "data": {
      "text/html": [
       "<div>\n",
       "<style scoped>\n",
       "    .dataframe tbody tr th:only-of-type {\n",
       "        vertical-align: middle;\n",
       "    }\n",
       "\n",
       "    .dataframe tbody tr th {\n",
       "        vertical-align: top;\n",
       "    }\n",
       "\n",
       "    .dataframe thead th {\n",
       "        text-align: right;\n",
       "    }\n",
       "</style>\n",
       "<table border=\"1\" class=\"dataframe\">\n",
       "  <thead>\n",
       "    <tr style=\"text-align: right;\">\n",
       "      <th></th>\n",
       "      <th>id</th>\n",
       "      <th>gender</th>\n",
       "      <th>age</th>\n",
       "      <th>driving_license</th>\n",
       "      <th>region_code</th>\n",
       "      <th>previously_insured</th>\n",
       "      <th>vehicle_age</th>\n",
       "      <th>vehicle_damage</th>\n",
       "      <th>annual_premium</th>\n",
       "      <th>policy_sales_channel</th>\n",
       "      <th>vintage</th>\n",
       "      <th>response</th>\n",
       "      <th>vehicle_age_year</th>\n",
       "    </tr>\n",
       "  </thead>\n",
       "  <tbody>\n",
       "    <tr>\n",
       "      <th>0</th>\n",
       "      <td>1</td>\n",
       "      <td>1</td>\n",
       "      <td>0.369231</td>\n",
       "      <td>1</td>\n",
       "      <td>0.538462</td>\n",
       "      <td>0</td>\n",
       "      <td>&gt; 2 Years</td>\n",
       "      <td>1</td>\n",
       "      <td>0.585862</td>\n",
       "      <td>0.154321</td>\n",
       "      <td>0.716263</td>\n",
       "      <td>1</td>\n",
       "      <td>1.0</td>\n",
       "    </tr>\n",
       "    <tr>\n",
       "      <th>1</th>\n",
       "      <td>2</td>\n",
       "      <td>1</td>\n",
       "      <td>0.861538</td>\n",
       "      <td>1</td>\n",
       "      <td>0.057692</td>\n",
       "      <td>0</td>\n",
       "      <td>1-2 Year</td>\n",
       "      <td>0</td>\n",
       "      <td>0.124508</td>\n",
       "      <td>0.154321</td>\n",
       "      <td>0.598616</td>\n",
       "      <td>0</td>\n",
       "      <td>0.5</td>\n",
       "    </tr>\n",
       "    <tr>\n",
       "      <th>2</th>\n",
       "      <td>3</td>\n",
       "      <td>1</td>\n",
       "      <td>0.415385</td>\n",
       "      <td>1</td>\n",
       "      <td>0.538462</td>\n",
       "      <td>0</td>\n",
       "      <td>&gt; 2 Years</td>\n",
       "      <td>1</td>\n",
       "      <td>0.441814</td>\n",
       "      <td>0.154321</td>\n",
       "      <td>0.058824</td>\n",
       "      <td>1</td>\n",
       "      <td>1.0</td>\n",
       "    </tr>\n",
       "    <tr>\n",
       "      <th>3</th>\n",
       "      <td>4</td>\n",
       "      <td>1</td>\n",
       "      <td>0.015385</td>\n",
       "      <td>1</td>\n",
       "      <td>0.211538</td>\n",
       "      <td>1</td>\n",
       "      <td>&lt; 1 Year</td>\n",
       "      <td>0</td>\n",
       "      <td>-0.203401</td>\n",
       "      <td>0.932099</td>\n",
       "      <td>0.667820</td>\n",
       "      <td>0</td>\n",
       "      <td>0.0</td>\n",
       "    </tr>\n",
       "    <tr>\n",
       "      <th>4</th>\n",
       "      <td>5</td>\n",
       "      <td>0</td>\n",
       "      <td>0.138462</td>\n",
       "      <td>1</td>\n",
       "      <td>0.788462</td>\n",
       "      <td>1</td>\n",
       "      <td>&lt; 1 Year</td>\n",
       "      <td>0</td>\n",
       "      <td>-0.278293</td>\n",
       "      <td>0.932099</td>\n",
       "      <td>0.100346</td>\n",
       "      <td>0</td>\n",
       "      <td>0.0</td>\n",
       "    </tr>\n",
       "  </tbody>\n",
       "</table>\n",
       "</div>"
      ],
      "text/plain": [
       "   id  gender       age  driving_license  region_code  previously_insured vehicle_age  vehicle_damage  annual_premium  policy_sales_channel   vintage  response  vehicle_age_year\n",
       "0   1       1  0.369231                1     0.538462                   0   > 2 Years               1        0.585862              0.154321  0.716263         1               1.0\n",
       "1   2       1  0.861538                1     0.057692                   0    1-2 Year               0        0.124508              0.154321  0.598616         0               0.5\n",
       "2   3       1  0.415385                1     0.538462                   0   > 2 Years               1        0.441814              0.154321  0.058824         1               1.0\n",
       "3   4       1  0.015385                1     0.211538                   1    < 1 Year               0       -0.203401              0.932099  0.667820         0               0.0\n",
       "4   5       0  0.138462                1     0.788462                   1    < 1 Year               0       -0.278293              0.932099  0.100346         0               0.0"
      ]
     },
     "execution_count": 28,
     "metadata": {},
     "output_type": "execute_result"
    }
   ],
   "source": [
    "df5.head(5)"
   ]
  },
  {
   "cell_type": "markdown",
   "metadata": {},
   "source": [
    "# Feature Selection"
   ]
  },
  {
   "cell_type": "code",
   "execution_count": 29,
   "metadata": {},
   "outputs": [],
   "source": [
    "df6 = df5.copy()\n",
    "df6test = df5test.copy()"
   ]
  },
  {
   "cell_type": "code",
   "execution_count": null,
   "metadata": {},
   "outputs": [],
   "source": [
    "# model definition\n",
    "forest = en.ExtraTreesClassifier(n_estimators=250, random_state=0, n_jobs=-1)\n",
    "\n",
    "# data preparation\n",
    "X_df6_n = df6.drop(['response'], axis=1)\n",
    "y_df6_n = df6['response']\n",
    "\n",
    "forest.fit(X_df6_n, y_df6_n)\n",
    "\n",
    "# Time: 46s\n"
   ]
  },
  {
   "cell_type": "code",
   "execution_count": null,
   "metadata": {},
   "outputs": [
    {
     "name": "stdout",
     "output_type": "stream",
     "text": [
      "Feature ranking\n",
      "                feature  importance\n",
      "0                    id    0.193349\n",
      "0               vintage    0.187256\n",
      "0        annual_premium    0.163926\n",
      "0                   age    0.137335\n",
      "0           region_code    0.094442\n",
      "0        vehicle_damage    0.076180\n",
      "0  policy_sales_channel    0.067525\n",
      "0    previously_insured    0.054571\n",
      "0      vehicle_age_year    0.019001\n",
      "0                gender    0.005949\n",
      "0       driving_license    0.000465\n"
     ]
    }
   ],
   "source": [
    "importances = forest.feature_importances_\n",
    "\n",
    "std = np.std([tree.feature_importances_ for tree in forest.estimators_], axis=0)\n",
    "\n",
    "indices = np.argsort(importances)[::-1]\n",
    "\n",
    "# print the feature ranking\n",
    "\n",
    "print('Feature ranking')\n",
    "\n",
    "df = pd.DataFrame()\n",
    "\n",
    "for i, j in zip(X_df6_n, forest.feature_importances_):\n",
    "    \n",
    "    aux = pd.DataFrame({'feature': i, 'importance': j}, index=[0])\n",
    "    \n",
    "    df = pd.concat([df, aux], axis=0)\n",
    "    \n",
    "print(df.sort_values('importance', ascending=False))"
   ]
  },
  {
   "cell_type": "code",
   "execution_count": null,
   "metadata": {},
   "outputs": [],
   "source": [
    "# Features choose\n",
    "\n",
    "#cols_selected =  ['id', 'vintage', 'annual_premium', 'age', 'region_code','vehicle_damage','policy_sales_channel','previously_insured','vehicle_age_year', ]"
   ]
  },
  {
   "cell_type": "markdown",
   "metadata": {},
   "source": [
    "# Machine Learning"
   ]
  },
  {
   "cell_type": "code",
   "execution_count": null,
   "metadata": {},
   "outputs": [],
   "source": [
    "# Validação cruzada Leave One Out\n",
    "kf = StratifiedKFold(n_splits = 10)"
   ]
  },
  {
   "cell_type": "code",
   "execution_count": null,
   "metadata": {},
   "outputs": [],
   "source": [
    "# Verificando a performance da Regressão Logística\n",
    "\n",
    "lista_de_medidas = ['precision']\n",
    "\n",
    "modelo = LogisticRegression()\n",
    "accs_vc = cross_validate(modelo, x_train_balanced, y_train_balanced, cv = kf, scoring = lista_de_medidas)"
   ]
  },
  {
   "cell_type": "code",
   "execution_count": null,
   "metadata": {},
   "outputs": [
    {
     "name": "stdout",
     "output_type": "stream",
     "text": [
      "0.3187541462120207\n"
     ]
    }
   ],
   "source": [
    "print(accs_vc['test_precision'].mean())"
   ]
  },
  {
   "cell_type": "code",
   "execution_count": null,
   "metadata": {},
   "outputs": [],
   "source": [
    "# verificando a performance da Regressão Logística\n",
    "def MachineLearning(dataset):\n",
    "\n",
    "    lista_de_medidas = ['accuracy', 'recall', 'precision', 'balanced_accuracy', 'f1']\n",
    "\n",
    "    nome_das_medidas = ['acurácia', 'sensibilidade', 'vpp', 'eficiência', 'f1-score']\n",
    "\n",
    "    lista_de_modelos = [LogisticRegression(),\n",
    "                        DecisionTreeClassifier(max_depth = 3),\n",
    "                        DecisionTreeClassifier(max_depth = 5),\n",
    "                        DecisionTreeClassifier(max_depth = 7),\n",
    "                        KNeighborsClassifier(n_neighbors = 5),\n",
    "                        KNeighborsClassifier(n_neighbors = 15),\n",
    "                        KNeighborsClassifier(n_neighbors = 25),\n",
    "                        BaggingClassifier(),\n",
    "                        RandomForestClassifier(n_estimators=300, max_depth = 3, max_features = 3),\n",
    "                        RandomForestClassifier(n_estimators=300, max_depth = 3, max_features = 4),\n",
    "                        RandomForestClassifier(n_estimators=300, max_depth = 6, max_features = 3),\n",
    "                        RandomForestClassifier(n_estimators=300, max_depth = 6, max_features = 4)]\n",
    "\n",
    "    nome_dos_modelos = ['Regressão Logística',\n",
    "                        'Árvore (prof = 3)',\n",
    "                        'Árvore (prof = 5)',\n",
    "                        'Árvore (prof = 7)',\n",
    "                        '5-NN',\n",
    "                        '15-NN',\n",
    "                        '25-NN',\n",
    "                        'Bagging',\n",
    "                        'Random Forest (prof = 3, mf = 3)',\n",
    "                        'Random Forest (prof = 3, mf = 4)',\n",
    "                        'Random Forest (prof = 6, mf = 3)',\n",
    "                        'Random Forest (prof = 6, mf = 4)']\n",
    "\n",
    "    resultados0 = {}\n",
    "\n",
    "    for i in range(len(lista_de_modelos)):\n",
    "        print('Rodando modelo: ' + nome_dos_modelos[i])\n",
    "        accs_vc = cross_validate(lista_de_modelos[i], x_train_balanced, y_train_balanced, cv = kf, scoring = lista_de_medidas)\n",
    "\n",
    "        acc = accs_vc['test_accuracy'].mean()\n",
    "        sen = accs_vc['test_recall'].mean()\n",
    "        vpp = accs_vc['test_precision'].mean()\n",
    "        bac = accs_vc['test_balanced_accuracy'].mean()\n",
    "        f1s = accs_vc['test_f1'].mean()\n",
    "\n",
    "        resultados0[nome_dos_modelos[i]] = [acc, sen, vpp, f1s, bac]\n",
    "    \n",
    "    resultados = pd.DataFrame(resultados0, index = nome_das_medidas).T\n",
    "\n",
    "    return resultados"
   ]
  },
  {
   "cell_type": "code",
   "execution_count": null,
   "metadata": {},
   "outputs": [],
   "source": [
    "MachineLearning(df_train)\n"
   ]
  },
  {
   "cell_type": "markdown",
   "metadata": {},
   "source": [
    "### Best models compare"
   ]
  },
  {
   "cell_type": "code",
   "execution_count": null,
   "metadata": {},
   "outputs": [
    {
     "name": "stdout",
     "output_type": "stream",
     "text": [
      "Accuracy: 0.8274614349175695\n",
      "Recall: 0.248747591522158\n",
      "Precision: 0.2747847885725097\n",
      "Balanced Accuracy: 0.5785228811351382\n",
      "F1 Score: 0.26111872710519807\n"
     ]
    }
   ],
   "source": [
    "# modelo Bagging\n",
    "bg = BaggingClassifier()\n",
    "\n",
    "x_train = df_train.drop('response', axis=1)\n",
    "y_train = df_train['response']\n",
    "\n",
    "# Fazendo a validação cruzada para obter as previsões do modelo\n",
    "y_pred_cv = cross_val_predict(bg, x_train, y_train, cv=5)\n",
    "\n",
    "# Calculando as métricas de avaliação com base nas previsões da validação cruzada\n",
    "accuracy = accuracy_score(y_train, y_pred_cv)\n",
    "recall = recall_score(y_train, y_pred_cv)\n",
    "precision = precision_score(y_train, y_pred_cv)\n",
    "balanced_accuracy = balanced_accuracy_score(y_train, y_pred_cv)\n",
    "f1 = f1_score(y_train, y_pred_cv)\n",
    "\n",
    "print(\"Accuracy:\", accuracy)\n",
    "print(\"Recall:\", recall)\n",
    "print(\"Precision:\", precision)\n",
    "print(\"Balanced Accuracy:\", balanced_accuracy)\n",
    "print(\"F1 Score:\", f1)"
   ]
  },
  {
   "cell_type": "markdown",
   "metadata": {},
   "source": [
    "# Fine Tuning"
   ]
  },
  {
   "cell_type": "markdown",
   "metadata": {},
   "source": [
    "### Final Result"
   ]
  },
  {
   "cell_type": "markdown",
   "metadata": {},
   "source": [
    "### Cross-Validation"
   ]
  },
  {
   "cell_type": "markdown",
   "metadata": {},
   "source": [
    "# Business Performance"
   ]
  },
  {
   "cell_type": "code",
   "execution_count": null,
   "metadata": {},
   "outputs": [],
   "source": []
  }
 ],
 "metadata": {
  "kernelspec": {
   "display_name": "Projects",
   "language": "python",
   "name": "python3"
  },
  "language_info": {
   "codemirror_mode": {
    "name": "ipython",
    "version": 3
   },
   "file_extension": ".py",
   "mimetype": "text/x-python",
   "name": "python",
   "nbconvert_exporter": "python",
   "pygments_lexer": "ipython3",
   "version": "3.9.17"
  },
  "orig_nbformat": 4
 },
 "nbformat": 4,
 "nbformat_minor": 2
}
